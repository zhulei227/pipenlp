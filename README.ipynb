{
 "cells": [
  {
   "cell_type": "markdown",
   "metadata": {},
   "source": [
    "# pipenlp  \n",
    "  \n",
    "## 介绍   \n",
    "`pipenlp`包可以方便地将NLP任务构建为`Pipline`任务流，目前主要包含的功能有：  \n",
    "- 数据清洗，关键词提取等：pipenlp.preprocessing\n",
    "- 文本特征提取，包括bow,tfidf等传统模型；lda,lsi等主题模型；fastext,word2vec等词向量模型；pca,nmf等特征降维模型：pipenlp.representation\n",
    "- 文本分类，包括lgbm决策树、logistic回归、svm等传统机器学习模型：pipenlp.classification  "
   ]
  },
  {
   "cell_type": "markdown",
   "metadata": {},
   "source": [
    "## 安装\n",
    "```bash\n",
    "pip install git+https://github.com/zhulei227/pipenlp\n",
    "```  "
   ]
  },
  {
   "cell_type": "markdown",
   "metadata": {},
   "source": [
    "## 使用  \n",
    "\n",
    "导入`PipeNLP`主程序"
   ]
  },
  {
   "cell_type": "code",
   "execution_count": 2,
   "metadata": {},
   "outputs": [],
   "source": [
    "from pipenlp import PipeNLP\n",
    "nlp=PipeNLP()"
   ]
  },
  {
   "cell_type": "markdown",
   "metadata": {},
   "source": [
    "准备`pandas.DataFrame`格式的数据"
   ]
  },
  {
   "cell_type": "code",
   "execution_count": 5,
   "metadata": {},
   "outputs": [
    {
     "name": "stdout",
     "output_type": "stream",
     "text": [
      "|    | text                                                                                                                                                                                  | label   |\n",
      "|---:|:--------------------------------------------------------------------------------------------------------------------------------------------------------------------------------------|:--------|\n",
      "|  0 | 动力差                                                                                                                                                                                | 消极    |\n",
      "|  1 | 油耗很低，操控比较好。第二箱油还没有跑完。油耗显示为5.9了，本人13年12月刚拿的本，跑出这样的油耗很满意了。                                                                             | 积极    |\n",
      "|  2 | 乘坐舒适性                                                                                                                                                                            | 积极    |\n",
      "|  3 | 最满意的不止一点：1、车内空间一流，前后排均满足使用需求，后备箱空间相当大；2、外观时尚，珠光白尤其喜欢，看起来也上档次，性价比超高！3、内饰用料在同级别车重相当厚道，很软，手感很好！ | 积极    |\n",
      "|  4 | 空间大，相对来说舒适性较好，性比价好些。                                                                                                                                              | 积极    |\n"
     ]
    }
   ],
   "source": [
    "import pandas as pd\n",
    "data=pd.read_csv(\"./data/demo.csv\")\n",
    "print(data.head(5).to_markdown())"
   ]
  },
  {
   "cell_type": "markdown",
   "metadata": {},
   "source": [
    "### 数据清洗"
   ]
  },
  {
   "cell_type": "code",
   "execution_count": 6,
   "metadata": {},
   "outputs": [
    {
     "data": {
      "text/plain": [
       "<pipenlp.pipenlp.PipeNLP at 0x2503c7cd748>"
      ]
     },
     "execution_count": 6,
     "metadata": {},
     "output_type": "execute_result"
    }
   ],
   "source": [
    "from pipenlp.preprocessing import *\n",
    "nlp.pipe(RemoveDigits())\\\n",
    "   .pipe(RemovePunctuation())\\\n",
    "   .pipe(RemoveWhitespace())"
   ]
  },
  {
   "cell_type": "code",
   "execution_count": 9,
   "metadata": {},
   "outputs": [
    {
     "name": "stdout",
     "output_type": "stream",
     "text": [
      "|    | output                                                                                                                                                 |\n",
      "|---:|:-------------------------------------------------------------------------------------------------------------------------------------------------------|\n",
      "|  0 | 动力差                                                                                                                                                 |\n",
      "|  1 | 油耗很低操控比较好第二箱油还没有跑完油耗显示为了本人年月刚拿的本跑出这样的油耗很满意了                                                                 |\n",
      "|  2 | 乘坐舒适性                                                                                                                                             |\n",
      "|  3 | 最满意的不止一点车内空间一流前后排均满足使用需求后备箱空间相当大外观时尚珠光白尤其喜欢看起来也上档次性价比超高内饰用料在同级别车重相当厚道很软手感很好 |\n",
      "|  4 | 空间大相对来说舒适性较好性比价好些                                                                                                                     |\n"
     ]
    }
   ],
   "source": [
    "data[\"output\"]=nlp.fit(data[\"text\"]).transform(data[\"text\"])\n",
    "print(data[[\"output\"]].head(5).to_markdown())"
   ]
  },
  {
   "cell_type": "markdown",
   "metadata": {},
   "source": [
    "### 分词  \n",
    "默认空格表示分割"
   ]
  },
  {
   "cell_type": "code",
   "execution_count": 10,
   "metadata": {},
   "outputs": [
    {
     "data": {
      "text/plain": [
       "<pipenlp.pipenlp.PipeNLP at 0x25048821748>"
      ]
     },
     "execution_count": 10,
     "metadata": {},
     "output_type": "execute_result"
    }
   ],
   "source": [
    "nlp=PipeNLP()\n",
    "nlp.pipe(ExtractChineseWords())\\\n",
    "   .pipe(ExtractJieBaWords())"
   ]
  },
  {
   "cell_type": "code",
   "execution_count": 11,
   "metadata": {},
   "outputs": [
    {
     "name": "stdout",
     "output_type": "stream",
     "text": [
      "|    | output                                                                                                                                                                                         |\n",
      "|---:|:-----------------------------------------------------------------------------------------------------------------------------------------------------------------------------------------------|\n",
      "|  0 | 动力 差                                                                                                                                                                                        |\n",
      "|  1 | 油耗 很 低 操控 比较 好 第二 箱油 还 没有 跑 完 油耗 显示 为了 本人 年 月 刚 拿 的 本 跑 出 这样 的 油耗 很 满意 了                                                                            |\n",
      "|  2 | 乘坐 舒适性                                                                                                                                                                                    |\n",
      "|  3 | 最 满意 的 不止 一点 车 内 空间 一流 前后排 均 满足 使用 需求 后备箱 空间 相当 大 外观 时尚 珠光 白 尤其 喜欢 看起来 也 上档次 性价比 超高 内饰 用料 在 同 级别 车重 相当 厚道 很软 手感 很 好 |\n",
      "|  4 | 空间 大 相对来说 舒适性 较 好性 比价 好些                                                                                                                                                      |\n"
     ]
    }
   ],
   "source": [
    "data[\"output\"]=nlp.fit(data[\"text\"]).transform(data[\"text\"]).head(5)\n",
    "print(data[[\"output\"]].head(5).to_markdown())"
   ]
  },
  {
   "cell_type": "markdown",
   "metadata": {},
   "source": [
    "### 文本特征提取  \n",
    "#### BOW词袋模型"
   ]
  },
  {
   "cell_type": "code",
   "execution_count": 12,
   "metadata": {},
   "outputs": [],
   "source": [
    "from pipenlp.representation import *"
   ]
  },
  {
   "cell_type": "code",
   "execution_count": 13,
   "metadata": {},
   "outputs": [
    {
     "data": {
      "text/plain": [
       "<pipenlp.pipenlp.PipeNLP at 0x25048948608>"
      ]
     },
     "execution_count": 13,
     "metadata": {},
     "output_type": "execute_result"
    }
   ],
   "source": [
    "nlp=PipeNLP()\n",
    "nlp.pipe(ExtractChineseWords())\\\n",
    "   .pipe(ExtractJieBaWords())\\\n",
    "   .pipe(BagOfWords())"
   ]
  },
  {
   "cell_type": "code",
   "execution_count": 15,
   "metadata": {},
   "outputs": [
    {
     "data": {
      "text/html": [
       "<div>\n",
       "<style scoped>\n",
       "    .dataframe tbody tr th:only-of-type {\n",
       "        vertical-align: middle;\n",
       "    }\n",
       "\n",
       "    .dataframe tbody tr th {\n",
       "        vertical-align: top;\n",
       "    }\n",
       "\n",
       "    .dataframe thead th {\n",
       "        text-align: right;\n",
       "    }\n",
       "</style>\n",
       "<table border=\"1\" class=\"dataframe\">\n",
       "  <thead>\n",
       "    <tr style=\"text-align: right;\">\n",
       "      <th></th>\n",
       "      <th>一</th>\n",
       "      <th>一下</th>\n",
       "      <th>一个</th>\n",
       "      <th>一个劲</th>\n",
       "      <th>一个月</th>\n",
       "      <th>一个舒服</th>\n",
       "      <th>一二</th>\n",
       "      <th>一些</th>\n",
       "      <th>一体</th>\n",
       "      <th>一停</th>\n",
       "      <th>...</th>\n",
       "      <th>黄色</th>\n",
       "      <th>黑</th>\n",
       "      <th>黑屏</th>\n",
       "      <th>黑底</th>\n",
       "      <th>黑烟</th>\n",
       "      <th>黑白</th>\n",
       "      <th>黑色</th>\n",
       "      <th>默认</th>\n",
       "      <th>鼓包</th>\n",
       "      <th>齐全</th>\n",
       "    </tr>\n",
       "  </thead>\n",
       "  <tbody>\n",
       "    <tr>\n",
       "      <th>0</th>\n",
       "      <td>0</td>\n",
       "      <td>0</td>\n",
       "      <td>0</td>\n",
       "      <td>0</td>\n",
       "      <td>0</td>\n",
       "      <td>0</td>\n",
       "      <td>0</td>\n",
       "      <td>0</td>\n",
       "      <td>0</td>\n",
       "      <td>0</td>\n",
       "      <td>...</td>\n",
       "      <td>0</td>\n",
       "      <td>0</td>\n",
       "      <td>0</td>\n",
       "      <td>0</td>\n",
       "      <td>0</td>\n",
       "      <td>0</td>\n",
       "      <td>0</td>\n",
       "      <td>0</td>\n",
       "      <td>0</td>\n",
       "      <td>0</td>\n",
       "    </tr>\n",
       "    <tr>\n",
       "      <th>1</th>\n",
       "      <td>0</td>\n",
       "      <td>0</td>\n",
       "      <td>0</td>\n",
       "      <td>0</td>\n",
       "      <td>0</td>\n",
       "      <td>0</td>\n",
       "      <td>0</td>\n",
       "      <td>0</td>\n",
       "      <td>0</td>\n",
       "      <td>0</td>\n",
       "      <td>...</td>\n",
       "      <td>0</td>\n",
       "      <td>0</td>\n",
       "      <td>0</td>\n",
       "      <td>0</td>\n",
       "      <td>0</td>\n",
       "      <td>0</td>\n",
       "      <td>0</td>\n",
       "      <td>0</td>\n",
       "      <td>0</td>\n",
       "      <td>0</td>\n",
       "    </tr>\n",
       "    <tr>\n",
       "      <th>2</th>\n",
       "      <td>0</td>\n",
       "      <td>0</td>\n",
       "      <td>0</td>\n",
       "      <td>0</td>\n",
       "      <td>0</td>\n",
       "      <td>0</td>\n",
       "      <td>0</td>\n",
       "      <td>0</td>\n",
       "      <td>0</td>\n",
       "      <td>0</td>\n",
       "      <td>...</td>\n",
       "      <td>0</td>\n",
       "      <td>0</td>\n",
       "      <td>0</td>\n",
       "      <td>0</td>\n",
       "      <td>0</td>\n",
       "      <td>0</td>\n",
       "      <td>0</td>\n",
       "      <td>0</td>\n",
       "      <td>0</td>\n",
       "      <td>0</td>\n",
       "    </tr>\n",
       "    <tr>\n",
       "      <th>3</th>\n",
       "      <td>0</td>\n",
       "      <td>0</td>\n",
       "      <td>0</td>\n",
       "      <td>0</td>\n",
       "      <td>0</td>\n",
       "      <td>0</td>\n",
       "      <td>0</td>\n",
       "      <td>0</td>\n",
       "      <td>0</td>\n",
       "      <td>0</td>\n",
       "      <td>...</td>\n",
       "      <td>0</td>\n",
       "      <td>0</td>\n",
       "      <td>0</td>\n",
       "      <td>0</td>\n",
       "      <td>0</td>\n",
       "      <td>0</td>\n",
       "      <td>0</td>\n",
       "      <td>0</td>\n",
       "      <td>0</td>\n",
       "      <td>0</td>\n",
       "    </tr>\n",
       "    <tr>\n",
       "      <th>4</th>\n",
       "      <td>0</td>\n",
       "      <td>0</td>\n",
       "      <td>0</td>\n",
       "      <td>0</td>\n",
       "      <td>0</td>\n",
       "      <td>0</td>\n",
       "      <td>0</td>\n",
       "      <td>0</td>\n",
       "      <td>0</td>\n",
       "      <td>0</td>\n",
       "      <td>...</td>\n",
       "      <td>0</td>\n",
       "      <td>0</td>\n",
       "      <td>0</td>\n",
       "      <td>0</td>\n",
       "      <td>0</td>\n",
       "      <td>0</td>\n",
       "      <td>0</td>\n",
       "      <td>0</td>\n",
       "      <td>0</td>\n",
       "      <td>0</td>\n",
       "    </tr>\n",
       "  </tbody>\n",
       "</table>\n",
       "<p>5 rows × 3865 columns</p>\n",
       "</div>"
      ],
      "text/plain": [
       "   一  一下  一个  一个劲  一个月  一个舒服  一二  一些  一体  一停  ...  黄色  黑  黑屏  黑底  黑烟  黑白  黑色  \\\n",
       "0  0   0   0    0    0     0   0   0   0   0  ...   0  0   0   0   0   0   0   \n",
       "1  0   0   0    0    0     0   0   0   0   0  ...   0  0   0   0   0   0   0   \n",
       "2  0   0   0    0    0     0   0   0   0   0  ...   0  0   0   0   0   0   0   \n",
       "3  0   0   0    0    0     0   0   0   0   0  ...   0  0   0   0   0   0   0   \n",
       "4  0   0   0    0    0     0   0   0   0   0  ...   0  0   0   0   0   0   0   \n",
       "\n",
       "   默认  鼓包  齐全  \n",
       "0   0   0   0  \n",
       "1   0   0   0  \n",
       "2   0   0   0  \n",
       "3   0   0   0  \n",
       "4   0   0   0  \n",
       "\n",
       "[5 rows x 3865 columns]"
      ]
     },
     "execution_count": 15,
     "metadata": {},
     "output_type": "execute_result"
    }
   ],
   "source": [
    "nlp.fit(data[\"text\"]).transform(data[\"text\"]).head(5)"
   ]
  },
  {
   "cell_type": "markdown",
   "metadata": {},
   "source": [
    "#### LDA主题模型"
   ]
  },
  {
   "cell_type": "code",
   "execution_count": 16,
   "metadata": {},
   "outputs": [
    {
     "data": {
      "text/plain": [
       "<pipenlp.pipenlp.PipeNLP at 0x250376bfe88>"
      ]
     },
     "execution_count": 16,
     "metadata": {},
     "output_type": "execute_result"
    }
   ],
   "source": [
    "nlp=PipeNLP()\n",
    "nlp.pipe(ExtractChineseWords())\\\n",
    "   .pipe(ExtractJieBaWords())\\\n",
    "   .pipe(LdaTopicModel(num_topics=10))"
   ]
  },
  {
   "cell_type": "code",
   "execution_count": 17,
   "metadata": {},
   "outputs": [
    {
     "name": "stdout",
     "output_type": "stream",
     "text": [
      "|    |         0 |         1 |         2 |         3 |         4 |         5 |         6 |         7 |         8 |         9 |\n",
      "|---:|----------:|----------:|----------:|----------:|----------:|----------:|----------:|----------:|----------:|----------:|\n",
      "|  0 | 0.0333422 | 0.0333365 | 0.0333361 | 0.0333375 | 0.0333477 | 0.699935  | 0.033347  | 0.0333382 | 0.0333395 | 0.0333399 |\n",
      "|  1 | 0         | 0.419074  | 0         | 0.555101  | 0         | 0         | 0         | 0         | 0         | 0         |\n",
      "|  2 | 0.0333399 | 0.0333397 | 0.0333373 | 0.0333425 | 0.0333446 | 0.699946  | 0.0333367 | 0.0333369 | 0.0333382 | 0.0333387 |\n",
      "|  3 | 0         | 0.159444  | 0         | 0         | 0         | 0         | 0.821498  | 0         | 0         | 0         |\n",
      "|  4 | 0.0111154 | 0.0111148 | 0.011116  | 0.0111147 | 0.0111152 | 0.0111172 | 0.0111163 | 0.0111155 | 0.0111167 | 0.899958  |\n"
     ]
    }
   ],
   "source": [
    "print(nlp.fit(data[\"text\"]).transform(data[\"text\"]).head(5).to_markdown())"
   ]
  },
  {
   "cell_type": "markdown",
   "metadata": {},
   "source": [
    "#### FastText模型"
   ]
  },
  {
   "cell_type": "code",
   "execution_count": 18,
   "metadata": {},
   "outputs": [
    {
     "data": {
      "text/plain": [
       "<pipenlp.pipenlp.PipeNLP at 0x2505959bb08>"
      ]
     },
     "execution_count": 18,
     "metadata": {},
     "output_type": "execute_result"
    }
   ],
   "source": [
    "nlp=PipeNLP()\n",
    "nlp.pipe(ExtractChineseWords())\\\n",
    "   .pipe(ExtractJieBaWords())\\\n",
    "   .pipe(FastTextModel(embedding_size=8))"
   ]
  },
  {
   "cell_type": "code",
   "execution_count": 19,
   "metadata": {},
   "outputs": [
    {
     "name": "stdout",
     "output_type": "stream",
     "text": [
      "|    |        0 |         1 |         2 |           3 |        4 |        5 |         6 |        7 |\n",
      "|---:|---------:|----------:|----------:|------------:|---------:|---------:|----------:|---------:|\n",
      "|  0 | 0.521626 | -1.11158  | -0.52375  | -0.0111436  | 0.882553 | 1.28695  | -0.386774 | 0.936366 |\n",
      "|  1 | 0.44299  | -0.875816 | -0.402543 | -0.013807   | 0.643703 | 1.01134  | -0.319752 | 0.727737 |\n",
      "|  2 | 0.343862 | -0.639304 | -0.278756 |  0.0214393  | 0.441067 | 0.703636 | -0.224053 | 0.518533 |\n",
      "|  3 | 0.363618 | -0.727091 | -0.345958 | -0.011569   | 0.538764 | 0.861078 | -0.26783  | 0.611543 |\n",
      "|  4 | 0.244573 | -0.481686 | -0.217829 |  0.00585448 | 0.361131 | 0.540066 | -0.158017 | 0.373351 |\n"
     ]
    }
   ],
   "source": [
    "print(nlp.fit(data[\"text\"]).transform(data[\"text\"]).head(5).to_markdown())"
   ]
  },
  {
   "cell_type": "markdown",
   "metadata": {},
   "source": [
    "#### PCA降维"
   ]
  },
  {
   "cell_type": "code",
   "execution_count": 20,
   "metadata": {},
   "outputs": [
    {
     "data": {
      "text/plain": [
       "<pipenlp.pipenlp.PipeNLP at 0x25058b61848>"
      ]
     },
     "execution_count": 20,
     "metadata": {},
     "output_type": "execute_result"
    }
   ],
   "source": [
    "nlp=PipeNLP()\n",
    "nlp.pipe(ExtractChineseWords())\\\n",
    "   .pipe(ExtractJieBaWords())\\\n",
    "   .pipe(BagOfWords())\\\n",
    "   .pipe(PCADecomposition(n_components=2))"
   ]
  },
  {
   "cell_type": "code",
   "execution_count": 21,
   "metadata": {},
   "outputs": [
    {
     "name": "stdout",
     "output_type": "stream",
     "text": [
      "|    |         0 |         1 |\n",
      "|---:|----------:|----------:|\n",
      "|  0 | -1.25732  | -0.222364 |\n",
      "|  1 |  1.07196  |  0.266178 |\n",
      "|  2 | -1.28851  | -0.212725 |\n",
      "|  3 |  0.281789 | -0.626023 |\n",
      "|  4 | -1.29397  | -0.353284 |\n"
     ]
    }
   ],
   "source": [
    "print(nlp.fit(data[\"text\"]).transform(data[\"text\"]).head(5).to_markdown())"
   ]
  },
  {
   "cell_type": "markdown",
   "metadata": {},
   "source": [
    "### 文本分类\n",
    "#### LGBM"
   ]
  },
  {
   "cell_type": "code",
   "execution_count": 22,
   "metadata": {},
   "outputs": [
    {
     "data": {
      "text/plain": [
       "<pipenlp.pipenlp.PipeNLP at 0x2505d2eba88>"
      ]
     },
     "execution_count": 22,
     "metadata": {},
     "output_type": "execute_result"
    }
   ],
   "source": [
    "from pipenlp.classification import *\n",
    "nlp=PipeNLP()\n",
    "nlp.pipe(ExtractChineseWords())\\\n",
    "   .pipe(ExtractJieBaWords())\\\n",
    "   .pipe(BagOfWords())\\\n",
    "   .pipe(LGBMClassification(y=data[\"label\"]))"
   ]
  },
  {
   "cell_type": "code",
   "execution_count": 23,
   "metadata": {},
   "outputs": [
    {
     "name": "stdout",
     "output_type": "stream",
     "text": [
      "|    |     积极 |        消极 |\n",
      "|---:|---------:|------------:|\n",
      "|  0 | 0.245708 | 0.754292    |\n",
      "|  1 | 0.913772 | 0.0862285   |\n",
      "|  2 | 0.4356   | 0.5644      |\n",
      "|  3 | 0.999868 | 0.000131638 |\n",
      "|  4 | 0.916361 | 0.0836388   |\n"
     ]
    }
   ],
   "source": [
    "print(nlp.fit(data[\"text\"]).transform(data[\"text\"]).head(5).to_markdown())"
   ]
  },
  {
   "cell_type": "markdown",
   "metadata": {},
   "source": [
    "### Logistic回归"
   ]
  },
  {
   "cell_type": "code",
   "execution_count": 24,
   "metadata": {},
   "outputs": [
    {
     "data": {
      "text/plain": [
       "<pipenlp.pipenlp.PipeNLP at 0x25064498708>"
      ]
     },
     "execution_count": 24,
     "metadata": {},
     "output_type": "execute_result"
    }
   ],
   "source": [
    "from pipenlp.classification import *\n",
    "nlp=PipeNLP()\n",
    "nlp.pipe(ExtractChineseWords())\\\n",
    "   .pipe(ExtractJieBaWords())\\\n",
    "   .pipe(BagOfWords())\\\n",
    "   .pipe(PCADecomposition(n_components=8))\\\n",
    "   .pipe(LogisticRegressionClassification(y=data[\"label\"]))"
   ]
  },
  {
   "cell_type": "code",
   "execution_count": 25,
   "metadata": {},
   "outputs": [
    {
     "name": "stdout",
     "output_type": "stream",
     "text": [
      "|    |     积极 |        消极 |\n",
      "|---:|---------:|------------:|\n",
      "|  0 | 0.49978  | 0.50022     |\n",
      "|  1 | 0.802964 | 0.197036    |\n",
      "|  2 | 0.448628 | 0.551372    |\n",
      "|  3 | 0.999973 | 2.74161e-05 |\n",
      "|  4 | 0.779578 | 0.220422    |\n"
     ]
    }
   ],
   "source": [
    "print(nlp.fit(data[\"text\"]).transform(data[\"text\"]).head(5).to_markdown())"
   ]
  },
  {
   "cell_type": "markdown",
   "metadata": {},
   "source": [
    "### 模型持久化\n",
    "#### 保存"
   ]
  },
  {
   "cell_type": "code",
   "execution_count": 26,
   "metadata": {},
   "outputs": [],
   "source": [
    "nlp.save(\"nlp.pkl\")"
   ]
  },
  {
   "cell_type": "markdown",
   "metadata": {},
   "source": [
    "#### 加载\n",
    "由于只保留了模型参数，所以需要重新声明模型结构信息(参数无需传入)"
   ]
  },
  {
   "cell_type": "code",
   "execution_count": 27,
   "metadata": {},
   "outputs": [
    {
     "data": {
      "text/plain": [
       "<pipenlp.pipenlp.PipeNLP at 0x250593f9a08>"
      ]
     },
     "execution_count": 27,
     "metadata": {},
     "output_type": "execute_result"
    }
   ],
   "source": [
    "nlp=PipeNLP()\n",
    "nlp.pipe(ExtractChineseWords())\\\n",
    "   .pipe(ExtractJieBaWords())\\\n",
    "   .pipe(BagOfWords())\\\n",
    "   .pipe(PCADecomposition())\\\n",
    "   .pipe(LogisticRegressionClassification())"
   ]
  },
  {
   "cell_type": "code",
   "execution_count": 28,
   "metadata": {},
   "outputs": [],
   "source": [
    "nlp.load(\"nlp.pkl\")"
   ]
  },
  {
   "cell_type": "code",
   "execution_count": 29,
   "metadata": {},
   "outputs": [
    {
     "name": "stdout",
     "output_type": "stream",
     "text": [
      "|    |     积极 |        消极 |\n",
      "|---:|---------:|------------:|\n",
      "|  0 | 0.49978  | 0.50022     |\n",
      "|  1 | 0.802964 | 0.197036    |\n",
      "|  2 | 0.448628 | 0.551372    |\n",
      "|  3 | 0.999973 | 2.74161e-05 |\n",
      "|  4 | 0.779578 | 0.220422    |\n"
     ]
    }
   ],
   "source": [
    "print(nlp.transform(data[\"text\"]).head(5).to_markdown())"
   ]
  },
  {
   "cell_type": "markdown",
   "metadata": {},
   "source": [
    "## TODO  \n",
    "\n",
    "- 加入TextCNN、Bert更高阶文本分类模型  \n",
    "- 引入预训练词向量"
   ]
  },
  {
   "cell_type": "code",
   "execution_count": null,
   "metadata": {},
   "outputs": [],
   "source": []
  }
 ],
 "metadata": {
  "kernelspec": {
   "display_name": "Python 3 (ipykernel)",
   "language": "python",
   "name": "python3"
  },
  "language_info": {
   "codemirror_mode": {
    "name": "ipython",
    "version": 3
   },
   "file_extension": ".py",
   "mimetype": "text/x-python",
   "name": "python",
   "nbconvert_exporter": "python",
   "pygments_lexer": "ipython3",
   "version": "3.7.15"
  }
 },
 "nbformat": 4,
 "nbformat_minor": 2
}
